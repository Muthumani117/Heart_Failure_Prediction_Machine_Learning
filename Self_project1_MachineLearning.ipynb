{
 "cells": [
  {
   "cell_type": "markdown",
   "id": "887d60f9",
   "metadata": {},
   "source": [
    "# Heart Failure Prediction \n",
    "\n",
    "# Perform Machine learning algorithms to predict Heart Disease\n",
    "\n",
    "Predicting the heart disease whether Yes or No for the given input criteria is classification based. Hence, here we are using 4 classification related Machine learning algorithm such as Decision Tree, Random Forest, Logistic Regression and Naive Bayes.\n"
   ]
  },
  {
   "cell_type": "code",
   "execution_count": 1,
   "id": "b7e46a1c",
   "metadata": {},
   "outputs": [],
   "source": [
    "# Importing libraries\n",
    "\n",
    "import numpy as np\n",
    "from math import sqrt\n",
    "import matplotlib.pyplot as plt\n",
    "import pandas as pd\n",
    "\n",
    "from sklearn.preprocessing import StandardScaler , MinMaxScaler\n",
    "from sklearn.metrics import mean_squared_error\n",
    "from sklearn.metrics import classification_report\n",
    "from sklearn.metrics import plot_confusion_matrix, accuracy_score\n",
    "from sklearn.model_selection import train_test_split\n",
    "from sklearn.tree import DecisionTreeClassifier\n",
    "from sklearn.linear_model import LogisticRegression\n",
    "from sklearn.ensemble import RandomForestClassifier\n",
    "from sklearn.naive_bayes import MultinomialNB\n",
    "\n",
    "pd.set_option('display.width', 2000)\n",
    "np.set_printoptions(linewidth=2000)\n",
    "pd.set_option('display.max_columns', 25)"
   ]
  },
  {
   "cell_type": "markdown",
   "id": "0420d532",
   "metadata": {},
   "source": [
    "Dataset can be downloaded from following link:\n",
    "\n",
    "https://www.kaggle.com/fedesoriano/heart-failure-prediction"
   ]
  },
  {
   "cell_type": "markdown",
   "id": "82fd81cc",
   "metadata": {},
   "source": [
    "\n",
    "Reading the dataset and creating dataframe\n"
   ]
  },
  {
   "cell_type": "code",
   "execution_count": 2,
   "id": "bd511455",
   "metadata": {},
   "outputs": [
    {
     "data": {
      "text/html": [
       "<div>\n",
       "<style scoped>\n",
       "    .dataframe tbody tr th:only-of-type {\n",
       "        vertical-align: middle;\n",
       "    }\n",
       "\n",
       "    .dataframe tbody tr th {\n",
       "        vertical-align: top;\n",
       "    }\n",
       "\n",
       "    .dataframe thead th {\n",
       "        text-align: right;\n",
       "    }\n",
       "</style>\n",
       "<table border=\"1\" class=\"dataframe\">\n",
       "  <thead>\n",
       "    <tr style=\"text-align: right;\">\n",
       "      <th></th>\n",
       "      <th>Age</th>\n",
       "      <th>Sex</th>\n",
       "      <th>ChestPainType</th>\n",
       "      <th>RestingBP</th>\n",
       "      <th>Cholesterol</th>\n",
       "      <th>FastingBS</th>\n",
       "      <th>RestingECG</th>\n",
       "      <th>MaxHR</th>\n",
       "      <th>ExerciseAngina</th>\n",
       "      <th>Oldpeak</th>\n",
       "      <th>ST_Slope</th>\n",
       "      <th>HeartDisease</th>\n",
       "    </tr>\n",
       "  </thead>\n",
       "  <tbody>\n",
       "    <tr>\n",
       "      <th>0</th>\n",
       "      <td>40</td>\n",
       "      <td>M</td>\n",
       "      <td>ATA</td>\n",
       "      <td>140</td>\n",
       "      <td>289</td>\n",
       "      <td>0</td>\n",
       "      <td>Normal</td>\n",
       "      <td>172</td>\n",
       "      <td>N</td>\n",
       "      <td>0.0</td>\n",
       "      <td>Up</td>\n",
       "      <td>0</td>\n",
       "    </tr>\n",
       "    <tr>\n",
       "      <th>1</th>\n",
       "      <td>49</td>\n",
       "      <td>F</td>\n",
       "      <td>NAP</td>\n",
       "      <td>160</td>\n",
       "      <td>180</td>\n",
       "      <td>0</td>\n",
       "      <td>Normal</td>\n",
       "      <td>156</td>\n",
       "      <td>N</td>\n",
       "      <td>1.0</td>\n",
       "      <td>Flat</td>\n",
       "      <td>1</td>\n",
       "    </tr>\n",
       "    <tr>\n",
       "      <th>2</th>\n",
       "      <td>37</td>\n",
       "      <td>M</td>\n",
       "      <td>ATA</td>\n",
       "      <td>130</td>\n",
       "      <td>283</td>\n",
       "      <td>0</td>\n",
       "      <td>ST</td>\n",
       "      <td>98</td>\n",
       "      <td>N</td>\n",
       "      <td>0.0</td>\n",
       "      <td>Up</td>\n",
       "      <td>0</td>\n",
       "    </tr>\n",
       "    <tr>\n",
       "      <th>3</th>\n",
       "      <td>48</td>\n",
       "      <td>F</td>\n",
       "      <td>ASY</td>\n",
       "      <td>138</td>\n",
       "      <td>214</td>\n",
       "      <td>0</td>\n",
       "      <td>Normal</td>\n",
       "      <td>108</td>\n",
       "      <td>Y</td>\n",
       "      <td>1.5</td>\n",
       "      <td>Flat</td>\n",
       "      <td>1</td>\n",
       "    </tr>\n",
       "    <tr>\n",
       "      <th>4</th>\n",
       "      <td>54</td>\n",
       "      <td>M</td>\n",
       "      <td>NAP</td>\n",
       "      <td>150</td>\n",
       "      <td>195</td>\n",
       "      <td>0</td>\n",
       "      <td>Normal</td>\n",
       "      <td>122</td>\n",
       "      <td>N</td>\n",
       "      <td>0.0</td>\n",
       "      <td>Up</td>\n",
       "      <td>0</td>\n",
       "    </tr>\n",
       "  </tbody>\n",
       "</table>\n",
       "</div>"
      ],
      "text/plain": [
       "   Age Sex ChestPainType  RestingBP  Cholesterol  FastingBS RestingECG  MaxHR ExerciseAngina  Oldpeak ST_Slope  HeartDisease\n",
       "0   40   M           ATA        140          289          0     Normal    172              N      0.0       Up             0\n",
       "1   49   F           NAP        160          180          0     Normal    156              N      1.0     Flat             1\n",
       "2   37   M           ATA        130          283          0         ST     98              N      0.0       Up             0\n",
       "3   48   F           ASY        138          214          0     Normal    108              Y      1.5     Flat             1\n",
       "4   54   M           NAP        150          195          0     Normal    122              N      0.0       Up             0"
      ]
     },
     "execution_count": 2,
     "metadata": {},
     "output_type": "execute_result"
    }
   ],
   "source": [
    "data = pd.read_csv(\"heart.csv\")\n",
    "# Displaying top 5 rows of dataset\n",
    "\n",
    "data.head(5)"
   ]
  },
  {
   "cell_type": "markdown",
   "id": "4b1e6789",
   "metadata": {},
   "source": [
    "\n",
    "EDA has already been performed in the following link, Have a look! \n",
    "\n",
    "https://github.com/Muthumani117/EDA_Project1.git\n",
    "\n",
    "Now performing ML algorithms to choose best algorithm depending on accuracy score\n"
   ]
  },
  {
   "cell_type": "code",
   "execution_count": 3,
   "id": "046253dc",
   "metadata": {},
   "outputs": [],
   "source": [
    "# Converting the object column into string\n",
    "\n",
    "data['Sex'].replace({'M':1, 'F':0}, inplace=True)                # inplace=True will change in the dataframe itself\n",
    "data['ExerciseAngina'].replace({'Y':1, 'N':0}, inplace=True)\n"
   ]
  },
  {
   "cell_type": "markdown",
   "id": "29734d21",
   "metadata": {},
   "source": [
    "\n",
    "Converting other categorical column datatypes into indicator varibales using get_dummies() function. \n"
   ]
  },
  {
   "cell_type": "code",
   "execution_count": 4,
   "id": "d9438d0d",
   "metadata": {},
   "outputs": [
    {
     "name": "stdout",
     "output_type": "stream",
     "text": [
      "<class 'pandas.core.frame.DataFrame'>\n",
      "RangeIndex: 918 entries, 0 to 917\n",
      "Data columns (total 16 columns):\n",
      " #   Column             Non-Null Count  Dtype  \n",
      "---  ------             --------------  -----  \n",
      " 0   Age                918 non-null    int64  \n",
      " 1   Sex                918 non-null    int64  \n",
      " 2   RestingBP          918 non-null    int64  \n",
      " 3   Cholesterol        918 non-null    int64  \n",
      " 4   FastingBS          918 non-null    int64  \n",
      " 5   MaxHR              918 non-null    int64  \n",
      " 6   ExerciseAngina     918 non-null    int64  \n",
      " 7   Oldpeak            918 non-null    float64\n",
      " 8   HeartDisease       918 non-null    int64  \n",
      " 9   ChestPainType_ATA  918 non-null    uint8  \n",
      " 10  ChestPainType_NAP  918 non-null    uint8  \n",
      " 11  ChestPainType_TA   918 non-null    uint8  \n",
      " 12  RestingECG_Normal  918 non-null    uint8  \n",
      " 13  RestingECG_ST      918 non-null    uint8  \n",
      " 14  ST_Slope_Flat      918 non-null    uint8  \n",
      " 15  ST_Slope_Up        918 non-null    uint8  \n",
      "dtypes: float64(1), int64(8), uint8(7)\n",
      "memory usage: 70.9 KB\n",
      "None\n"
     ]
    }
   ],
   "source": [
    "df =pd.get_dummies(data, drop_first=True)    # drop_first= True is used to reduce any extra column created during dummy varibale creation\n",
    "print(df.info())\n"
   ]
  },
  {
   "cell_type": "code",
   "execution_count": 5,
   "id": "187f84ff",
   "metadata": {},
   "outputs": [
    {
     "name": "stdout",
     "output_type": "stream",
     "text": [
      "   Age  Sex  RestingBP  Cholesterol  FastingBS  MaxHR  ExerciseAngina  Oldpeak  HeartDisease  ChestPainType_ATA  ChestPainType_NAP  ChestPainType_TA  RestingECG_Normal  RestingECG_ST  ST_Slope_Flat  ST_Slope_Up\n",
      "0   40    1        140          289          0    172               0      0.0             0                  1                  0                 0                  1              0              0            1\n",
      "1   49    0        160          180          0    156               0      1.0             1                  0                  1                 0                  1              0              1            0\n"
     ]
    }
   ],
   "source": [
    "print(df.head(2))"
   ]
  },
  {
   "cell_type": "code",
   "execution_count": 6,
   "id": "25b1e1fd",
   "metadata": {},
   "outputs": [],
   "source": [
    "\n",
    "X = df.drop('HeartDisease', axis=1)\n",
    "Y = df['HeartDisease']"
   ]
  },
  {
   "cell_type": "markdown",
   "id": "590d4ce2",
   "metadata": {},
   "source": [
    "# Scaling data"
   ]
  },
  {
   "cell_type": "code",
   "execution_count": 7,
   "id": "3a3f75cc",
   "metadata": {},
   "outputs": [],
   "source": [
    "scale = StandardScaler()\n",
    "scaled_df = scale.fit_transform(X)\n",
    "scaled_data = pd.DataFrame(scaled_df, columns=X.columns)\n",
    "scaled_X = scaled_data"
   ]
  },
  {
   "cell_type": "markdown",
   "id": "f3d8146a",
   "metadata": {},
   "source": [
    "# Splitting the dataset for training and testing"
   ]
  },
  {
   "cell_type": "code",
   "execution_count": 8,
   "id": "4c20ded5",
   "metadata": {},
   "outputs": [
    {
     "data": {
      "text/plain": [
       "(642, 15)"
      ]
     },
     "execution_count": 8,
     "metadata": {},
     "output_type": "execute_result"
    }
   ],
   "source": [
    "X_train, X_test, Y_train, Y_test = train_test_split(scaled_X, Y , test_size=0.3, random_state=42)\n",
    "X_train.shape\n"
   ]
  },
  {
   "cell_type": "code",
   "execution_count": 9,
   "id": "fe323999",
   "metadata": {},
   "outputs": [
    {
     "data": {
      "text/plain": [
       "(276, 15)"
      ]
     },
     "execution_count": 9,
     "metadata": {},
     "output_type": "execute_result"
    }
   ],
   "source": [
    "X_test.shape\n"
   ]
  },
  {
   "cell_type": "code",
   "execution_count": 13,
   "id": "88ab585b",
   "metadata": {},
   "outputs": [],
   "source": [
    "# Creating new general function to calculate accuracy score and plot confusion matrix for algorithm\n",
    "\n",
    "def score_calculation(name, model,X_train, X_test, Y_train, Y_test):\n",
    "    model.fit(X_train, Y_train)\n",
    "    predictions = model.predict(X_test)\n",
    "    score = accuracy_score(Y_test, predictions)\n",
    "    print(f'Accuracy Score of {name} is ' + '{:.2f}'.format(score*100))\n",
    "    mse = mean_squared_error(Y_test, predictions)\n",
    "    rmse = sqrt(mse)\n",
    "    print(f'RMSE Score of {name} is ' + '{:.2f}'.format(rmse*100))\n",
    "    print(\"\\nClassification Report \\n\")\n",
    "    print(classification_report(Y_test, predictions))\n",
    "    plot_confusion_matrix(model, X_test, Y_test)\n",
    "    plt.grid(None)\n",
    "    plt.title(f\"Confusion matrix of {name} model\")\n",
    "    plt.show()\n",
    "    "
   ]
  },
  {
   "cell_type": "markdown",
   "id": "b4bee281",
   "metadata": {},
   "source": [
    "# Decision Tree Classifier algorithm"
   ]
  },
  {
   "cell_type": "code",
   "execution_count": 14,
   "id": "b6268cb0",
   "metadata": {},
   "outputs": [
    {
     "name": "stdout",
     "output_type": "stream",
     "text": [
      "Accuracy Score of Decision Tree is 75.36\n",
      "RMSE Score of Decision Tree is 49.64\n",
      "\n",
      "Classification Report \n",
      "\n",
      "              precision    recall  f1-score   support\n",
      "\n",
      "           0       0.66      0.80      0.73       112\n",
      "           1       0.84      0.72      0.78       164\n",
      "\n",
      "    accuracy                           0.75       276\n",
      "   macro avg       0.75      0.76      0.75       276\n",
      "weighted avg       0.77      0.75      0.76       276\n",
      "\n"
     ]
    },
    {
     "data": {
      "image/png": "[encoded data removed]",
      "text/plain": [
       "<Figure size 432x288 with 2 Axes>"
      ]
     },
     "metadata": {
      "needs_background": "light"
     },
     "output_type": "display_data"
    }
   ],
   "source": [
    "\n",
    "model_1 = DecisionTreeClassifier(criterion='entropy', random_state=42)\n",
    "score_calculation(\"Decision Tree\", model_1, X_train, X_test, Y_train, Y_test)\n"
   ]
  },
  {
   "cell_type": "markdown",
   "id": "3e4c7b36",
   "metadata": {},
   "source": [
    "# Logistic Regression Algorithm"
   ]
  },
  {
   "cell_type": "code",
   "execution_count": 15,
   "id": "8fb29af6",
   "metadata": {},
   "outputs": [
    {
     "name": "stdout",
     "output_type": "stream",
     "text": [
      "Accuracy Score of Logistic Regression is 88.04\n",
      "RMSE Score of Logistic Regression is 34.58\n",
      "\n",
      "Classification Report \n",
      "\n",
      "              precision    recall  f1-score   support\n",
      "\n",
      "           0       0.83      0.88      0.86       112\n",
      "           1       0.92      0.88      0.90       164\n",
      "\n",
      "    accuracy                           0.88       276\n",
      "   macro avg       0.87      0.88      0.88       276\n",
      "weighted avg       0.88      0.88      0.88       276\n",
      "\n"
     ]
    },
    {
     "data": {
      "image/png": "[encoded data removed]",
      "text/plain": [
       "<Figure size 432x288 with 2 Axes>"
      ]
     },
     "metadata": {
      "needs_background": "light"
     },
     "output_type": "display_data"
    }
   ],
   "source": [
    "\n",
    "model_2 = LogisticRegression()\n",
    "score_calculation(\"Logistic Regression\", model_2, X_train, X_test, Y_train, Y_test)\n"
   ]
  },
  {
   "cell_type": "markdown",
   "id": "27a5d041",
   "metadata": {},
   "source": [
    "# Random Classifier Algorithm"
   ]
  },
  {
   "cell_type": "code",
   "execution_count": 16,
   "id": "04da0910",
   "metadata": {},
   "outputs": [
    {
     "name": "stdout",
     "output_type": "stream",
     "text": [
      "Accuracy Score of Random Forest Classifier is 87.68\n",
      "RMSE Score of Random Forest Classifier is 35.10\n",
      "\n",
      "Classification Report \n",
      "\n",
      "              precision    recall  f1-score   support\n",
      "\n",
      "           0       0.85      0.85      0.85       112\n",
      "           1       0.90      0.90      0.90       164\n",
      "\n",
      "    accuracy                           0.88       276\n",
      "   macro avg       0.87      0.87      0.87       276\n",
      "weighted avg       0.88      0.88      0.88       276\n",
      "\n"
     ]
    },
    {
     "data": {
      "image/png": "[encoded data removed]",
      "text/plain": [
       "<Figure size 432x288 with 2 Axes>"
      ]
     },
     "metadata": {
      "needs_background": "light"
     },
     "output_type": "display_data"
    }
   ],
   "source": [
    "\n",
    "model_3 = RandomForestClassifier(n_estimators=100, criterion='entropy', random_state=453)\n",
    "score_calculation(\"Random Forest Classifier\", model_3, X_train, X_test, Y_train, Y_test)\n"
   ]
  },
  {
   "cell_type": "markdown",
   "id": "2f648723",
   "metadata": {},
   "source": [
    "# Naive Bayes Algorithm\n",
    "\n",
    "When using this algorithm sometimes,we will get below error:\n",
    "\n",
    "    \"ValueError: Negative values in data passed to MultinomialNB\"\n",
    "\n",
    "To avoid this, we have to scale our data using MinMaxScaler\n"
   ]
  },
  {
   "cell_type": "code",
   "execution_count": 17,
   "id": "0a73df9e",
   "metadata": {},
   "outputs": [
    {
     "name": "stdout",
     "output_type": "stream",
     "text": [
      "Accuracy Score of Naive Bayes is 84.06\n",
      "RMSE Score of Naive Bayes is 39.93\n",
      "\n",
      "Classification Report \n",
      "\n",
      "              precision    recall  f1-score   support\n",
      "\n",
      "           0       0.78      0.84      0.81       112\n",
      "           1       0.88      0.84      0.86       164\n",
      "\n",
      "    accuracy                           0.84       276\n",
      "   macro avg       0.83      0.84      0.84       276\n",
      "weighted avg       0.84      0.84      0.84       276\n",
      "\n"
     ]
    },
    {
     "data": {
      "image/png": "[encoded data removed]",
      "text/plain": [
       "<Figure size 432x288 with 2 Axes>"
      ]
     },
     "metadata": {
      "needs_background": "light"
     },
     "output_type": "display_data"
    }
   ],
   "source": [
    "scaler = MinMaxScaler()\n",
    "X_train = scaler.fit_transform(X_train)\n",
    "X_test = scaler.fit_transform(X_test)\n",
    "\n",
    "\n",
    "model_4 = MultinomialNB(alpha=1, fit_prior=True)\n",
    "score_calculation(\"Naive Bayes\", model_4, X_train, X_test, Y_train, Y_test)\n"
   ]
  },
  {
   "cell_type": "markdown",
   "id": "545d8d02",
   "metadata": {},
   "source": [
    "\n",
    "Conclusion:\n",
    "\n",
    "From the above 4 ML algorithms, it can concluded that \n",
    "    Logistic Regression algorithm gives maximum accuracy score of 88 % as well as F1 score from classification report is 90 % and it can be concluded as the best model.\n",
    "    "
   ]
  }
 ],
 "metadata": {
  "kernelspec": {
   "display_name": "Python 3 (ipykernel)",
   "language": "python",
   "name": "python3"
  },
  "language_info": {
   "codemirror_mode": {
    "name": "ipython",
    "version": 3
   },
   "file_extension": ".py",
   "mimetype": "text/x-python",
   "name": "python",
   "nbconvert_exporter": "python",
   "pygments_lexer": "ipython3",
   "version": "3.9.7"
  }
 },
 "nbformat": 4,
 "nbformat_minor": 5
}
